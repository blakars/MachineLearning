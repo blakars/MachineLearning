{
 "cells": [
  {
   "cell_type": "markdown",
   "metadata": {},
   "source": [
    "# 1a/b)"
   ]
  },
  {
   "cell_type": "code",
   "execution_count": 21,
   "metadata": {},
   "outputs": [
    {
     "name": "stdout",
     "output_type": "stream",
     "text": [
      "Data matrix X=\n",
      " [[1 2 3]\n",
      " [2 3 4]\n",
      " [3 4 5]\n",
      " [4 5 6]]\n",
      "Test vector x= [1.5 3.6 5.7]\n",
      "Euklidean distances to x:  [3.178049716414141, 1.8708286933869709, 1.7029386365926402, 2.8809720581775866]\n",
      "idx_knn= [2 1]\n",
      "The k Nearest Neighbors of x are the following vectors:\n",
      "The 1 th nearest neighbor is: X[ 2 ]= [3 4 5]  with distance  1.7029386365926402\n",
      "The 2 th nearest neighbor is: X[ 1 ]= [2 3 4]  with distance  1.8708286933869709\n"
     ]
    }
   ],
   "source": [
    "# Programmgeruest zu Versuch 1, Aufgabe 1\n",
    "import numpy as np\n",
    "\n",
    "\n",
    "def getKNearestNeighbors(x,X,k=1):  # realizes nearest neighbor search of x in database\n",
    "    \"\"\"\n",
    "    compute the k nearest neighbors for a query vector x given a data matrix X\n",
    "    :param x: the query vector x\n",
    "    :param X: the N x D data matrix (in each row there is data vector) as a numpy array\n",
    "    :param k: number of nearest-neighbors to be returned\n",
    "    :return: return list of k line indixes referring to the k nearest neighbors of x in X\n",
    "    \"\"\"\n",
    "    return np.argsort([np.linalg.norm(x-a) for a in X])[0:k]   #list compr. ermittelt euklidische Distanzen, Sortierung mit argsort gibt die k gewünschten Indexe in X mit der niedrigsten eukl. Distanz\n",
    "                                                                    \n",
    "\n",
    "# ***** MAIN PROGRAM ********\n",
    "\n",
    "# (i) Generate dummy data \n",
    "X = np.array([[1,2,3],[2,3,4],[3,4,5],[4,5,6]]);      # data matrix X: list of data vectors (=database) of dimension D=3\n",
    "x = np.array([1.5,3.6,5.7]);                          # a test data vector\n",
    "print(\"Data matrix X=\\n\",X)\n",
    "print(\"Test vector x=\",x)\n",
    "\n",
    "# (ii) Print all Euklidean distances to test vector x\n",
    "print(\"Euklidean distances to x: \", [np.linalg.norm(x-a) for a in X])  #Berechnung der euklid. Distanz mittels linalg.norm(a-b) \n",
    "\n",
    "# (iii) Search for k nearest neighbor\n",
    "k=2\n",
    "idx_knn = getKNearestNeighbors(x,X,k)                  # get indexes of k nearest neighbors\n",
    "print(\"idx_knn=\",idx_knn)\n",
    "\n",
    "# (iv) output results\n",
    "print(\"The k Nearest Neighbors of x are the following vectors:\")\n",
    "for i in range(k):\n",
    "    idx=idx_knn[i]\n",
    "    print(\"The\", i+1, \"th nearest neighbor is: X[\",idx,\"]=\",X[idx],\" with distance \", np.linalg.norm(X[idx]-x))\n",
    "\n"
   ]
  },
  {
   "cell_type": "markdown",
   "metadata": {},
   "source": [
    "# 1c)"
   ]
  },
  {
   "cell_type": "markdown",
   "metadata": {},
   "source": [
    "Das Programm braucht O(ND) viele Rechenschritte. Es gibt schnellere Verfahren, z.b. den KDTree "
   ]
  }
 ],
 "metadata": {
  "kernelspec": {
   "display_name": "Python 3",
   "language": "python",
   "name": "python3"
  },
  "language_info": {
   "codemirror_mode": {
    "name": "ipython",
    "version": 3
   },
   "file_extension": ".py",
   "mimetype": "text/x-python",
   "name": "python",
   "nbconvert_exporter": "python",
   "pygments_lexer": "ipython3",
   "version": "3.7.3"
  }
 },
 "nbformat": 4,
 "nbformat_minor": 2
}
