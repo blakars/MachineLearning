{
 "cells": [
  {
   "cell_type": "code",
   "execution_count": null,
   "metadata": {},
   "outputs": [],
   "source": [
    "# Programmgeruest zu Versuch 1, Aufgabe 4)\n",
    "import numpy as np\n",
    "import pandas as pd\n",
    "from time import clock\n",
    "from random import randint\n",
    "from V1A2_Classifier import *\n",
    "\n",
    "# (I) Load data \n",
    "forestdata  = pd.read_csv('../DATA/ForestTypes/ForestTypesData.csv'); # load data as pandas data frame \n",
    "classlabels = ['s','h','d','o'];                                      # possible class labels (C=4) \n",
    "classidx    = {classlabels[i]:i for i in range(len(classlabels))}     # dict for mapping classlabel to index \n",
    "C           = len(classlabels)        # number of classes (Note: K is now the number of nearest-neighbors!!!!!!)\n",
    "T_txt = forestdata.values[:,0]        # array of class labels of data vectors (class label is first data attribute)\n",
    "X = forestdata.values[:,1:]           # array of feature vectors (features are remaining attributes)\n",
    "T = [classidx[t.strip()] for t in T_txt]          # transform text labels 's','h','d','o' to numeric lables 0,1,2,3\n",
    "N,D=X.shape                           # size and dimensionality of data set\n",
    "print(\"Data set 'ForestData' has size N=\", N, \" and dimensionality D=\",D, \" and C=\", C, \" different classes\")\n",
    "print(\"X[0..9]=\\n\",X[0:10])\n",
    "print(\"T_txt[0..9]=\\n\",T_txt[0:10])\n",
    "print(\"T[0..9]=\\n\",T[0:10])\n",
    "\n",
    "# (II) Test KNN-classifier with S-fold cross validation\n",
    "S_list=[]                            # parameter S for cross validation; INSERT appropriate values\n",
    "K_list=[]                            # number K of nearest neighbors; INSERT appropriate values\n",
    "accuracy = np.zeros((len(S_list),len(K_list)));   # array to save accuracy of classifier for each value of S and K\n",
    "for i in range(len(S_list)):\n",
    "    S=S_list[i]                      # do an S-fold cross validation\n",
    "    for j in range(len(K_list)):\n",
    "        K=K_list[j]\n",
    "        t1=clock()                   # start time\n",
    "        knnc = 0                              # REPLACE! create appropriate KNN classifier (with kd-trees) \n",
    "        pE,pCE = 0,0                          # REPLACE! Do S-fold cross validation and get error probabilities / confusion matrix\n",
    "        t2=clock()                            # end time\n",
    "        time_comp=t2-t1                       # computing time in seconds\n",
    "        print(\"\\nS=\",S,\" fold cross validation using the\",K,\"-NNClassifier with KD-Trees yields the following results:\")\n",
    "        print(\"Classification error probability = \", pE)\n",
    "        print(\"Accuracy = \", 1.0-pE)\n",
    "        print(\"Confusion Error Probabilities p(class i|class j) = \\n\", pCE)\n",
    "        print(\"Computing time = \", time_comp, \" sec\")\n",
    "        accuracy[i,j]=1.0-pE\n",
    "print(\"\\naccuracy=\\n\",accuracy)\n",
    "print(\"\\np_classerror=\\n\",1.0-accuracy)\n"
   ]
  }
 ],
 "metadata": {
  "kernelspec": {
   "display_name": "Python 3",
   "language": "python",
   "name": "python3"
  },
  "language_info": {
   "codemirror_mode": {
    "name": "ipython",
    "version": 3
   },
   "file_extension": ".py",
   "mimetype": "text/x-python",
   "name": "python",
   "nbconvert_exporter": "python",
   "pygments_lexer": "ipython3",
   "version": "3.7.3"
  }
 },
 "nbformat": 4,
 "nbformat_minor": 2
}
